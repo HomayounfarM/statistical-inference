{
  "nbformat": 4,
  "nbformat_minor": 0,
  "metadata": {
    "colab": {
      "private_outputs": true,
      "provenance": [],
      "collapsed_sections": [],
      "include_colab_link": true
    },
    "kernelspec": {
      "name": "python3",
      "display_name": "Python 3"
    },
    "language_info": {
      "name": "python"
    }
  },
  "cells": [
    {
      "cell_type": "markdown",
      "metadata": {
        "id": "view-in-github",
        "colab_type": "text"
      },
      "source": [
        "<a href=\"https://colab.research.google.com/github/HomayounfarM/statistical-inference/blob/main/BMP_anv_(1).ipynb\" target=\"_parent\"><img src=\"https://colab.research.google.com/assets/colab-badge.svg\" alt=\"Open In Colab\"/></a>"
      ]
    },
    {
      "cell_type": "markdown",
      "source": [
        "##Complete Randomized Block Design (RBD)\n",
        "Blocking in experimental design is similar to stratification in sampling. The purpose of RBD is to control some of the extraneous sources of variation by removing such variation from the MSE term. This design tends to provide a better estimate of the true error variance and leads to a more powerful hypothesis test in terms of the ability to detect differences among treatment means.\n",
        "source: https://medium.com/budding-data-scientist/data-analytics-using-python-part-6-9e740a1dd681\n",
        "![picture](https://drive.google.com/uc?export=view&id=15-urAyR1WSS2v7F6-Y1kSKb2E_D3pyaw)"
      ],
      "metadata": {
        "id": "4NuoBBIf9bzc"
      }
    },
    {
      "cell_type": "code",
      "source": [
        "!pip install -U -q PyDrive\n",
        " \n",
        "from pydrive.auth import GoogleAuth\n",
        "from pydrive.drive import GoogleDrive\n",
        "from google.colab import auth\n",
        "from oauth2client.client import GoogleCredentials\n",
        "import numpy as np\n",
        "import pandas as pd\n",
        "import scipy\n",
        "import statsmodels.api as sm\n",
        "from statsmodels.formula.api import ols\n",
        "import matplotlib.pyplot as plt\n",
        "import seaborn as sns\n",
        " \n",
        "# Authenticate and create the PyDrive client.\n",
        "auth.authenticate_user()\n",
        "gauth = GoogleAuth()\n",
        "gauth.credentials = GoogleCredentials.get_application_default()\n",
        "drive = GoogleDrive(gauth)"
      ],
      "metadata": {
        "id": "0tp9C8NPwrYI"
      },
      "execution_count": null,
      "outputs": []
    },
    {
      "cell_type": "code",
      "source": [
        "link = 'https://drive.google.com/file/d/1u1BC37L6uwjuYy4J36RCaK8Er1ETXLKI/view?usp=sharing'\n",
        "link1 = 'https://drive.google.com/file/d/13o2yHwUdbjgU-sv9ieB190ntQGmhi8B6/view?usp=sharing'\n",
        " \n",
        "# to get the id part of the file\n",
        "id = link.split(\"/\")[-2]\n",
        "downloaded = drive.CreateFile({'id':id})\n",
        "downloaded.GetContentFile('data.csv') \n",
        "df = pd.read_csv('data.csv')\n",
        "\n",
        "id1 = link1.split(\"/\")[-2]\n",
        "downloaded1 = drive.CreateFile({'id':id1})\n",
        "downloaded1.GetContentFile('data1.csv') \n",
        "df1 = pd.read_csv('data1.csv')\n",
        "\n",
        "#X = pd.DataFrame({'X':[0, 52, 103, 154, 205, 257])\n",
        "#X = pd.DataFrame({'X':[T0, T46, T92, T137, T183, T229])\n",
        "df.head(5)"
      ],
      "metadata": {
        "id": "AA_AP4RH5Ius"
      },
      "execution_count": null,
      "outputs": []
    },
    {
      "cell_type": "code",
      "source": [
        "print(df.shape)\n",
        "print(df.info())\n",
        "df.describe()"
      ],
      "metadata": {
        "id": "Ia4kfO4LPKs_"
      },
      "execution_count": null,
      "outputs": []
    },
    {
      "cell_type": "code",
      "source": [
        "# Exploratory Data Analysis\n",
        "g=sns.pairplot(df)\n",
        "g.fig.set_size_inches(15,15)"
      ],
      "metadata": {
        "id": "aVT12AVAQa6A"
      },
      "execution_count": null,
      "outputs": []
    },
    {
      "cell_type": "code",
      "source": [
        "# fitting anova\n",
        "model = ols('Culls~C(Block)+C(Rate)', data = df).fit()\n",
        "anova_table = sm.stats.anova_lm(model, type=1)\n",
        "anova_table"
      ],
      "metadata": {
        "id": "E4RhW6aw6I4c"
      },
      "execution_count": null,
      "outputs": []
    },
    {
      "cell_type": "code",
      "source": [
        "# Simple linear regression   \n",
        "X = pd.DataFrame({'X':[0, 103, 52, 154, 205, 257, 154, 103, 52, 257, 205, 0, 257, 205, 154, 103, 52, 0, 52, 205, 154, 103, 0, 257]})\n",
        "Y = df1['TMY']      # TMY\n",
        "#Y = df1['TY']     # TY\n",
        "X = sm.add_constant(X)\n",
        "lin_model = sm.OLS(Y,X)\n",
        "result = lin_model.fit()\n",
        "print(result.summary())\n",
        "plt.scatter(X['X'], Y, color = 'red')"
      ],
      "metadata": {
        "id": "_TfMM2thWVZe"
      },
      "execution_count": null,
      "outputs": []
    },
    {
      "cell_type": "code",
      "source": [
        "# Simple linear regression (Second site)  \n",
        "X = pd.DataFrame({'X':[257, 0, 103, 154, 52, 205, 103, 52, 154, 0, 257, 205, 257, 205, 0, 52, 103, 154, 0, 205, 52, 257, 154, 103]})\n",
        "Y = df['TMY']      # TMY\n",
        "#Y = df['TY']     # TY\n",
        "X = sm.add_constant(X)\n",
        "lin_model = sm.OLS(Y,X)\n",
        "result = lin_model.fit()\n",
        "print(result.summary())\n",
        "plt.scatter(X['X'], Y, color = 'red')"
      ],
      "metadata": {
        "id": "FOdcp5Mfrm3i"
      },
      "execution_count": null,
      "outputs": []
    }
  ]
}